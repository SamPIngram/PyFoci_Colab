{
  "nbformat": 4,
  "nbformat_minor": 0,
  "metadata": {
    "colab": {
      "name": "PyFociExample.ipynb",
      "provenance": [],
      "collapsed_sections": [],
      "authorship_tag": "ABX9TyNS6k71X5ARCxFBkb3qgprK",
      "include_colab_link": true
    },
    "kernelspec": {
      "name": "python3",
      "display_name": "Python 3"
    },
    "language_info": {
      "name": "python"
    },
    "widgets": {
      "application/vnd.jupyter.widget-state+json": {
        "1310d62602f84508a694b60f968b5bd9": {
          "model_module": "@jupyter-widgets/controls",
          "model_name": "DropdownModel",
          "model_module_version": "1.5.0",
          "state": {
            "_options_labels": [
              "10x",
              "20x",
              "40x",
              "63x",
              "100x"
            ],
            "_view_name": "DropdownView",
            "style": "IPY_MODEL_da01e149334f4f559a8fae7f625a10e3",
            "_dom_classes": [],
            "description": "",
            "_model_name": "DropdownModel",
            "index": 2,
            "_view_module": "@jupyter-widgets/controls",
            "_model_module_version": "1.5.0",
            "_view_count": null,
            "disabled": false,
            "_view_module_version": "1.5.0",
            "description_tooltip": null,
            "_model_module": "@jupyter-widgets/controls",
            "layout": "IPY_MODEL_62ac2728d53e4833bd55980492524522"
          }
        },
        "da01e149334f4f559a8fae7f625a10e3": {
          "model_module": "@jupyter-widgets/controls",
          "model_name": "DescriptionStyleModel",
          "model_module_version": "1.5.0",
          "state": {
            "_view_name": "StyleView",
            "_model_name": "DescriptionStyleModel",
            "description_width": "",
            "_view_module": "@jupyter-widgets/base",
            "_model_module_version": "1.5.0",
            "_view_count": null,
            "_view_module_version": "1.2.0",
            "_model_module": "@jupyter-widgets/controls"
          }
        },
        "62ac2728d53e4833bd55980492524522": {
          "model_module": "@jupyter-widgets/base",
          "model_name": "LayoutModel",
          "model_module_version": "1.2.0",
          "state": {
            "_view_name": "LayoutView",
            "grid_template_rows": null,
            "right": null,
            "justify_content": null,
            "_view_module": "@jupyter-widgets/base",
            "overflow": null,
            "_model_module_version": "1.2.0",
            "_view_count": null,
            "flex_flow": null,
            "width": null,
            "min_width": null,
            "border": null,
            "align_items": null,
            "bottom": null,
            "_model_module": "@jupyter-widgets/base",
            "top": null,
            "grid_column": null,
            "overflow_y": null,
            "overflow_x": null,
            "grid_auto_flow": null,
            "grid_area": null,
            "grid_template_columns": null,
            "flex": null,
            "_model_name": "LayoutModel",
            "justify_items": null,
            "grid_row": null,
            "max_height": null,
            "align_content": null,
            "visibility": null,
            "align_self": null,
            "height": null,
            "min_height": null,
            "padding": null,
            "grid_auto_rows": null,
            "grid_gap": null,
            "max_width": null,
            "order": null,
            "_view_module_version": "1.2.0",
            "grid_template_areas": null,
            "object_position": null,
            "object_fit": null,
            "grid_auto_columns": null,
            "margin": null,
            "display": null,
            "left": null
          }
        }
      }
    }
  },
  "cells": [
    {
      "cell_type": "markdown",
      "metadata": {
        "id": "view-in-github",
        "colab_type": "text"
      },
      "source": [
        "<a href=\"https://colab.research.google.com/github/SamPIngram/PyFoci_Colab/blob/main/PyFociExample.ipynb\" target=\"_parent\"><img src=\"https://colab.research.google.com/assets/colab-badge.svg\" alt=\"Open In Colab\"/></a>"
      ]
    },
    {
      "cell_type": "markdown",
      "source": [
        "# **1. Set-up enviroment for running PyFoci**\n",
        "\n",
        "*After installing the packages you may be prompted to restart runtime.*\n"
      ],
      "metadata": {
        "id": "hhYE86kVhtuV"
      }
    },
    {
      "cell_type": "code",
      "execution_count": 1,
      "metadata": {
        "colab": {
          "base_uri": "https://localhost:8080/"
        },
        "id": "6fQb1w87e1S0",
        "outputId": "a3b1b104-ff9b-4399-d432-abb76d953b6a"
      },
      "outputs": [
        {
          "output_type": "stream",
          "name": "stdout",
          "text": [
            "Cloning into 'pyfoci'...\n",
            "remote: Enumerating objects: 100, done.\u001b[K\n",
            "remote: Counting objects: 100% (100/100), done.\u001b[K\n",
            "remote: Compressing objects: 100% (80/80), done.\u001b[K\n",
            "remote: Total 100 (delta 25), reused 87 (delta 17), pack-reused 0\u001b[K\n",
            "Receiving objects: 100% (100/100), 83.53 MiB | 27.29 MiB/s, done.\n",
            "Resolving deltas: 100% (25/25), done.\n",
            "/content/pyfoci\n",
            "/content\n"
          ]
        }
      ],
      "source": [
        "#@markdown ## **Download required Libraries**\n",
        "!git clone https://gitlab.com/PRECISE-RT/releases/pyfoci.git\n",
        "%cd pyfoci\n",
        "!pip install -r requirements.txt\n",
        "import pyfoci\n",
        "%cd .."
      ]
    },
    {
      "cell_type": "markdown",
      "source": [
        "# **2. Pick Microscope Settings**\n",
        "\n",
        "These options are for the microscopes included from *Ingram et al., A computational approach to quantifying miscounting of radiation-induced double-strand break immunofluorescent foci. In Review.* Pick the microscope you want to emulate from the form below, this will show available mangifications on the cell below. Select which magniciation you wish to use a move on. The users own microscope PSF can be added to PyFoci through modiction of the /content/pyfoci/pyfoci/microscopes/Microscopes.json file which will need to point to the captured .h5 distilled PSF data."
      ],
      "metadata": {
        "id": "9vRXbW6RsshZ"
      }
    },
    {
      "cell_type": "code",
      "source": [
        "import ipywidgets as widgets\n",
        "import json\n",
        "with open('/content/pyfoci/pyfoci/microscopes/Microscopes.json', 'r') as f:\n",
        "  microscope_specs = json.load(f)\n",
        "\n",
        "#@title Microscope\n",
        "microscope = \"airyscan\" #@param [\"airyscan\", \"gSTED\", \"Lowlight\", \"MultiPhoton\", \"Phenix\", \"STED\"]"
      ],
      "metadata": {
        "cellView": "form",
        "id": "IK3t_yIzs9sq"
      },
      "execution_count": 2,
      "outputs": []
    },
    {
      "cell_type": "code",
      "source": [
        "#@title Magnification\n",
        "\n",
        "magnifications = microscope_specs['PSF_file'][microscope].keys()\n",
        "mag_picker = widgets.Dropdown(options=magnifications)\n",
        "display(mag_picker)"
      ],
      "metadata": {
        "colab": {
          "base_uri": "https://localhost:8080/",
          "height": 49,
          "referenced_widgets": [
            "1310d62602f84508a694b60f968b5bd9",
            "da01e149334f4f559a8fae7f625a10e3",
            "62ac2728d53e4833bd55980492524522"
          ]
        },
        "cellView": "form",
        "id": "JznYlmHCvIBg",
        "outputId": "b837fe87-7b35-41f9-dd53-096f038f83e1"
      },
      "execution_count": 3,
      "outputs": [
        {
          "output_type": "display_data",
          "data": {
            "application/vnd.jupyter.widget-view+json": {
              "model_id": "1310d62602f84508a694b60f968b5bd9",
              "version_minor": 0,
              "version_major": 2
            },
            "text/plain": [
              "Dropdown(options=('10x', '20x', '40x', '63x', '100x'), value='10x')"
            ]
          },
          "metadata": {}
        }
      ]
    },
    {
      "cell_type": "markdown",
      "source": [
        "# **3. Download Simulated DNA Damage and Repair Data**\n",
        "\n",
        "This data will be downloaded from FigShare data store which corresponds to the data used in *Ingram et al., A computational approach to quantifying miscounting of radiation-induced double-strand break immunofluorescent foci. In Review.* Pick the setting you want to emulate from the form below. These are just a sample of the included data and this toolset can be used with the users own data if available."
      ],
      "metadata": {
        "id": "shoWzcM2p5zV"
      }
    },
    {
      "cell_type": "code",
      "source": [
        "#@title Download Data\n",
        "!wget -q -O Vertices.zip https://figshare.com/ndownloader/files/27522164?private_link=ae99c2d5888604e16eec\n",
        "!unzip -q Vertices.zip\n",
        "!rm Vertices.zip\n",
        "!wget -q -O SDDs.zip https://figshare.com/ndownloader/files/27522179?private_link=ae99c2d5888604e16eec\n",
        "!unzip -q SDDs.zip\n",
        "!rm SDDs.zip\n",
        "!wget -q -O Repair.zip https://figshare.com/ndownloader/files/27522185?private_link=ae99c2d5888604e16eec\n",
        "!unzip -q Repair.zip\n",
        "!rm Repair.zip"
      ],
      "metadata": {
        "cellView": "form",
        "id": "LDVXXfVwE7ro"
      },
      "execution_count": 4,
      "outputs": []
    },
    {
      "cell_type": "code",
      "source": [
        "#@title Set Radiation Parameters\n",
        "radiation_type = \"proton\" #@param [\"photon\", \"proton\"]\n",
        "dose = \"2 Gy\" #@param [\"1 Gy\", \"2 Gy\", \"5 Gy\", \"10 Gy\"]\n",
        "#@markdown Protons only setting:\n",
        "energy = \"34.0 MeV\" #@param [\"0.975 MeV\", \"5.5 MeV\", \"34.0 MeV\"]\n",
        "\n",
        "dose_value = dose.split(' ')[0]\n",
        "if radiation_type == \"photon\":\n",
        "  energy_value = 10.0\n",
        "else:\n",
        "  energy_value = energy.split(' ')[0]"
      ],
      "metadata": {
        "cellView": "form",
        "id": "rEkDlpWepy9r"
      },
      "execution_count": 5,
      "outputs": []
    },
    {
      "cell_type": "markdown",
      "source": [
        "# **4. Emulation Settings**\n",
        "These settings will be used by PyFoci to emulate the microscope image that can be used for benchmarking the users foci counting."
      ],
      "metadata": {
        "id": "CizaJspYw_CL"
      }
    },
    {
      "cell_type": "code",
      "source": [
        "#@title Emulation Parameters\n",
        "flourescent_marker = \"gH2AX\" #@param [\"gH2AX\", \"Ku/DNA-PKcs\"]\n",
        "time_point_seconds = 1800 #@param {type:\"integer\"}\n",
        "labelling_efficiency_percentage = 3 #@param {type:\"slider\", min:0, max:100, step:1}\n",
        "labelling_efficiency = labelling_efficiency_percentage/100\n",
        "z_stack_offset = 0 #@param {type:\"integer\"}\n",
        "normalise_intensity = False #@param {type:\"boolean\"}\n",
        "cell_example_id = 34 #@param {type:\"slider\", min:1, max:200, step:1}\n",
        "\n",
        "#@markdown **gH2AX Only**\n",
        "\n",
        "#@markdown ---\n",
        "\n",
        "#@markdown Settings for H2AX postioning\n",
        "nucleosome_size_bp = 146 #@param {type:\"integer\"}\n",
        "histone_copies_per_nucleosome = 2 #@param {type:\"integer\"}\n",
        "percentage_h2ax = 10 #@param {type:\"slider\", min:0, max:100, step:1}\n",
        "\n",
        "#@markdown Settings for H2AX activation via Cauchy Distribution\n",
        "A = 0.22568542777797262 #@param {type:\"number\"}\n",
        "H = 0.3848433186715101 #@param {type:\"number\"}\n",
        "FWHM = 0.4488695944536109 #@param {type:\"number\"}\n"
      ],
      "metadata": {
        "cellView": "form",
        "id": "EhNUTajcslAi"
      },
      "execution_count": 42,
      "outputs": []
    },
    {
      "cell_type": "markdown",
      "source": [
        "# **5. Run PyFoci**\n"
      ],
      "metadata": {
        "id": "b5hUKGWY8vXL"
      }
    },
    {
      "cell_type": "code",
      "source": [
        "#@title Generate Damage File (~10mins for gH2AX)\n",
        "\n",
        "import numpy as np\n",
        "import shutil\n",
        "\n",
        "def make_H2AX_file(damaris_file):\n",
        "    damaris = damaris_file\n",
        "    geom_id = damaris.split('/')[-1].split('MicroscopeSnapshots')[1].split('.')[0]\n",
        "    bead_verticies = f'/content/Vertices/IMR90_Ellipsoid_noLADs_zFlat_{geom_id}.vertices.txt'\n",
        "\n",
        "    sim_times, xs, ys, zs, _, het, chrom, chromatid, _, chrompos, breakid = np.loadtxt(damaris, delimiter=' ', unpack=True)\n",
        "    bio_base = pyfoci.bioProcessing.BioProcessing()\n",
        "    bio_base.read_bead_verticies_file(bead_verticies)\n",
        "    bio_base.filter_beads_by_damage_only(damaris, 0, etol=1e-3)\n",
        "    bio_base.add_histones(seed=0, nucleosome_size_bp=nucleosome_size_bp, histone_copies_per_nucleosome=histone_copies_per_nucleosome, fraction_h2ax=percentage_h2ax/100, labelling_efficiency=labelling_efficiency)\n",
        "    bio_base.compute_histone_activation()\n",
        "    bio_base.store_data(0)\n",
        "    time_list = [time_point_seconds]\n",
        "    for time in time_list:\n",
        "        bio_base.update_damage(damaris, time, noMovement=True)\n",
        "        bio_base.compute_histone_activation(reset_vals=True, A=A, H=H, FWHM=FWHM)\n",
        "        bio_base.store_data(time)\n",
        "\n",
        "    saveName = f'/content/damagefile'\n",
        "    bio_base.save_as_npy(save_name=saveName)\n",
        "\n",
        "if flourescent_marker == \"gH2AX\":\n",
        "  make_H2AX_file(f'/content/Repair - DSBMarker/{radiation_type}/{energy_value}/{dose_value}/MicroscopeSnapshots{cell_example_id}.out')\n",
        "  damage_path = '/content/damagefile.npz'\n",
        "\n",
        "shutil.copyfile(f'/content/Repair - DSBMarker/{radiation_type}/{energy_value}/{dose_value}/MicroscopeSnapshots{cell_example_id}.out', '/content/damagefile.out')\n",
        "damage_path_dsbs = '/content/damagefile.out'"
      ],
      "metadata": {
        "cellView": "form",
        "id": "N2g-9r7YEloW",
        "colab": {
          "base_uri": "https://localhost:8080/"
        },
        "outputId": "97128579-3718-4a2a-bcbb-d7fb4bf173a7"
      },
      "execution_count": 43,
      "outputs": [
        {
          "output_type": "stream",
          "name": "stdout",
          "text": [
            "70\n"
          ]
        }
      ]
    },
    {
      "cell_type": "code",
      "source": [
        "#@title Run PyFoci Simulation\n",
        "%cd pyfoci\n",
        "def simulate(damagefile, microscope_setting, microscope_name, magnification, time, z_stack_offset):\n",
        "  microscope_object = pyfoci.microscope.Microscope(damagefile, microscope_setting, cell_radius=14)\n",
        "  microscope_object.define_microscope_list(microscope_name, magnification)\n",
        "  world = microscope_object.create_world()\n",
        "  microscope_object.mapping_breaks()\n",
        "  scored_world = microscope_object.place_breaks(world, time, z_stack_offset=z_stack_offset)\n",
        "  microscope_object.max_value_world()\n",
        "  return microscope_object, scored_world\n",
        "\n",
        "microscope_file = '/content/pyfoci/pyfoci/microscopes/Microscopes.json'\n",
        "if flourescent_marker == \"gH2AX\":\n",
        "  microscope_object, scored_world = simulate(damage_path_dsbs, microscope_file, microscope, mag_picker.value, time_point_seconds, z_stack_offset)\n",
        "  breaks_in_slice = microscope_object.breaks_in_slice\n",
        "  microscope_object, scored_world = simulate(damage_path, microscope_file, microscope, mag_picker.value, time_point_seconds, z_stack_offset)\n",
        "else:\n",
        "  microscope_object, scored_world = simulate(damage_path_dsbs, microscope_file, microscope, mag_picker.value, time_point_seconds, z_stack_offset)\n",
        "  breaks_in_slice = microscope_object.breaks_in_slice\n",
        "%cd .."
      ],
      "metadata": {
        "colab": {
          "base_uri": "https://localhost:8080/"
        },
        "cellView": "form",
        "id": "fNUdmJVXcMkf",
        "outputId": "5d502f61-8be2-47a1-9869-10d9e4b2e282"
      },
      "execution_count": 37,
      "outputs": [
        {
          "output_type": "stream",
          "name": "stdout",
          "text": [
            "/content/pyfoci\n",
            "/content\n"
          ]
        }
      ]
    },
    {
      "cell_type": "code",
      "source": [
        "#@title Visualise Results\n",
        "from matplotlib.pyplot import figure, title\n",
        "\n",
        "figure(figsize=(8, 8), dpi=100)\n",
        "\n",
        "def view(microscope_object, scored_world, normalise_intensity):\n",
        "  view = pyfoci.view.View(microscope_object, scored_world)\n",
        "  view.viewer()\n",
        "  view.display_microscope_image(self_normalisation=normalise_intensity)\n",
        "  return view\n",
        "\n",
        "title(f\"Breaks in Simulation Slice = {breaks_in_slice}\")\n",
        "view = view(microscope_object, scored_world, normalise_intensity)"
      ],
      "metadata": {
        "colab": {
          "base_uri": "https://localhost:8080/",
          "height": 663
        },
        "cellView": "form",
        "id": "ub4eZZ97cWTp",
        "outputId": "03467200-4adf-4532-8999-069650f1e6f2"
      },
      "execution_count": 33,
      "outputs": [
        {
          "output_type": "display_data",
          "data": {
            "image/png": "[encoded data removed]",
            "text/plain": [
              "<Figure size 800x800 with 1 Axes>"
            ]
          },
          "metadata": {
            "needs_background": "light"
          }
        }
      ]
    },
    {
      "cell_type": "markdown",
      "source": [
        "# **6. Download Output for Benchmarking**"
      ],
      "metadata": {
        "id": "sf1J_aVVca-k"
      }
    },
    {
      "cell_type": "code",
      "source": [
        "from google.colab import files\n",
        "import os\n",
        "\n",
        "if not os.path.isdir('/content/results'):\n",
        "  os.mkdir('/content/results')\n",
        "#@title Download Image for Benchmarking\n",
        "Format = \"png\" #@param [\"png\", \"tiff\", \"pdf\", \"svg\", \"jpeg\"]\n",
        "DPI = 500 #@param {type:\"integer\"}\n",
        "\n",
        "view.save_microscope_image(f'BIS{breaks_in_slice}_{dose}_{energy}_{time_point_seconds}s_CellID{cell_example_id}.{Format}', save_path='/content/results', dpi=DPI)\n",
        "\n",
        "filename = os.listdir('/content/results')\n",
        "files.download('/content/results/'+filename[0])"
      ],
      "metadata": {
        "colab": {
          "base_uri": "https://localhost:8080/",
          "height": 52
        },
        "cellView": "form",
        "id": "EV8P0AXZcnEg",
        "outputId": "1d0c2ddd-3854-4b3b-ba92-a036ca43ef07"
      },
      "execution_count": 38,
      "outputs": [
        {
          "output_type": "display_data",
          "data": {
            "application/javascript": [
              "\n",
              "    async function download(id, filename, size) {\n",
              "      if (!google.colab.kernel.accessAllowed) {\n",
              "        return;\n",
              "      }\n",
              "      const div = document.createElement('div');\n",
              "      const label = document.createElement('label');\n",
              "      label.textContent = `Downloading \"${filename}\": `;\n",
              "      div.appendChild(label);\n",
              "      const progress = document.createElement('progress');\n",
              "      progress.max = size;\n",
              "      div.appendChild(progress);\n",
              "      document.body.appendChild(div);\n",
              "\n",
              "      const buffers = [];\n",
              "      let downloaded = 0;\n",
              "\n",
              "      const channel = await google.colab.kernel.comms.open(id);\n",
              "      // Send a message to notify the kernel that we're ready.\n",
              "      channel.send({})\n",
              "\n",
              "      for await (const message of channel.messages) {\n",
              "        // Send a message to notify the kernel that we're ready.\n",
              "        channel.send({})\n",
              "        if (message.buffers) {\n",
              "          for (const buffer of message.buffers) {\n",
              "            buffers.push(buffer);\n",
              "            downloaded += buffer.byteLength;\n",
              "            progress.value = downloaded;\n",
              "          }\n",
              "        }\n",
              "      }\n",
              "      const blob = new Blob(buffers, {type: 'application/binary'});\n",
              "      const a = document.createElement('a');\n",
              "      a.href = window.URL.createObjectURL(blob);\n",
              "      a.download = filename;\n",
              "      div.appendChild(a);\n",
              "      a.click();\n",
              "      div.remove();\n",
              "    }\n",
              "  "
            ],
            "text/plain": [
              "<IPython.core.display.Javascript object>"
            ]
          },
          "metadata": {}
        },
        {
          "output_type": "display_data",
          "data": {
            "application/javascript": [
              "download(\"download_0739a42e-5cda-4039-83b2-68f0dfdd0dea\", \"BIS22_2 Gy_34.0 MeV_1800s_CellID34.png\", 44658)"
            ],
            "text/plain": [
              "<IPython.core.display.Javascript object>"
            ]
          },
          "metadata": {}
        },
        {
          "output_type": "display_data",
          "data": {
            "text/plain": [
              "<Figure size 432x288 with 0 Axes>"
            ]
          },
          "metadata": {}
        }
      ]
    },
    {
      "cell_type": "markdown",
      "source": [
        "# **7. (Optional) In-built Foci Counting**"
      ],
      "metadata": {
        "id": "k6yk2E7q83Op"
      }
    },
    {
      "cell_type": "code",
      "source": [
        "#@title Foci Counter Parameters\n",
        "min_sigma = 2 #@param {type:\"integer\"}\n",
        "max_sigma = 20 #@param {type:\"integer\"}\n",
        "num_sigma = 3 #@param {type:\"integer\"}\n",
        "percentage_of_max_val_threshold = 6 #@param {type:\"slider\", min:1, max:100, step:1}\n",
        "threshold = percentage_of_max_val_threshold/100\n",
        "\n",
        "figure(figsize=(8, 8), dpi=100)\n",
        "\n",
        "counter = pyfoci.fociCounter.FociCounter()\n",
        "counter.parse_input(view.view_adjusted_image)\n",
        "counter.detect_foci(min_sigma=min_sigma, max_sigma=max_sigma, num_sigma=num_sigma, threshold=microscope_object.max_value*threshold)\n",
        "title(f\"Breaks in Simulation Slice = {breaks_in_slice} \\n Breaks Counted = {counter.detections}\")\n",
        "counter.plot_detected_array()\n"
      ],
      "metadata": {
        "id": "uoidf32i8_qi",
        "colab": {
          "base_uri": "https://localhost:8080/",
          "height": 783
        },
        "cellView": "form",
        "outputId": "108444fb-26a2-4513-f96f-cb99be0d5468"
      },
      "execution_count": 16,
      "outputs": [
        {
          "output_type": "display_data",
          "data": {
            "image/png": "[encoded data removed]",
            "text/plain": [
              "<Figure size 800x800 with 1 Axes>"
            ]
          },
          "metadata": {
            "needs_background": "light"
          }
        }
      ]
    }
  ]
}